{
 "cells": [
  {
   "cell_type": "code",
   "execution_count": 2,
   "metadata": {},
   "outputs": [
    {
     "ename": "SyntaxError",
     "evalue": "invalid syntax (835188098.py, line 4)",
     "output_type": "error",
     "traceback": [
      "\u001b[1;36m  Cell \u001b[1;32mIn[2], line 4\u001b[1;36m\u001b[0m\n\u001b[1;33m    def__init__(self, value):\u001b[0m\n\u001b[1;37m                             ^\u001b[0m\n\u001b[1;31mSyntaxError\u001b[0m\u001b[1;31m:\u001b[0m invalid syntax\n"
     ]
    }
   ],
   "source": [
    "class Myclass1:\n",
    "    class_variable =\"I am a class variable\"\n",
    "\n",
    "    def__init__(self, value):\n",
    "        self.instance_variable = Value \n",
    "    \n",
    "    def instance_method(self):\n",
    "        print(f\"Instance Method:{self.instance_variable}\")\n",
    "        print(f\"Accessing class variable from Instance method:{self.class_variable}\")\n",
    "             \n",
    "    @classmethod\n",
    "    def class_method(cls):\n",
    "        print(f\"class Method:{cls.class_variable}\")"
   ]
  },
  {
   "cell_type": "code",
   "execution_count": null,
   "metadata": {},
   "outputs": [],
   "source": []
  },
  {
   "cell_type": "code",
   "execution_count": null,
   "metadata": {},
   "outputs": [],
   "source": [
    "#creating instance or object of the class\n",
    "obj = Myclass(\"hello\")"
   ]
  },
  {
   "cell_type": "code",
   "execution_count": 1,
   "metadata": {},
   "outputs": [
    {
     "ename": "NameError",
     "evalue": "name 'obj' is not defined",
     "output_type": "error",
     "traceback": [
      "\u001b[1;31m---------------------------------------------------------------------------\u001b[0m",
      "\u001b[1;31mNameError\u001b[0m                                 Traceback (most recent call last)",
      "\u001b[1;32mc:\\Users\\BISHT\\OneDrive\\Desktop\\class-and-object-session009\\practice1.ipynb Cell 3\u001b[0m line \u001b[0;36m2\n\u001b[0;32m      <a href='vscode-notebook-cell:/c%3A/Users/BISHT/OneDrive/Desktop/class-and-object-session009/practice1.ipynb#W2sZmlsZQ%3D%3D?line=0'>1</a>\u001b[0m \u001b[39m#Accessing the instance or object of the class\u001b[39;00m\n\u001b[1;32m----> <a href='vscode-notebook-cell:/c%3A/Users/BISHT/OneDrive/Desktop/class-and-object-session009/practice1.ipynb#W2sZmlsZQ%3D%3D?line=1'>2</a>\u001b[0m obj\u001b[39m.\u001b[39minstance_method()\n",
      "\u001b[1;31mNameError\u001b[0m: name 'obj' is not defined"
     ]
    }
   ],
   "source": [
    "#Accessing the instance or object of the class\n",
    "obj.instance_method()"
   ]
  },
  {
   "cell_type": "code",
   "execution_count": null,
   "metadata": {},
   "outputs": [],
   "source": [
    "#Accessing the instance Method\n",
    "obj.instance_method()"
   ]
  },
  {
   "cell_type": "code",
   "execution_count": 7,
   "metadata": {},
   "outputs": [
    {
     "ename": "SyntaxError",
     "evalue": "invalid syntax (369019161.py, line 4)",
     "output_type": "error",
     "traceback": [
      "\u001b[1;36m  Cell \u001b[1;32mIn[7], line 4\u001b[1;36m\u001b[0m\n\u001b[1;33m    def__init__(self,data):\u001b[0m\n\u001b[1;37m                           ^\u001b[0m\n\u001b[1;31mSyntaxError\u001b[0m\u001b[1;31m:\u001b[0m invalid syntax\n"
     ]
    }
   ],
   "source": [
    "class Myclass2:\n",
    "    total_instances = 0\n",
    "\n",
    "    def__init__(self,data):\n",
    "       self.data = data \n",
    "       myclass2.total_instances += 1\n",
    "    \n",
    "    @classmethod \n",
    "    def show_total_instance(cls):\n",
    "        print(f\"Total instance created:{cls.total_instance}\")\n",
    "\n",
    "    def show_instance_data(self):\n",
    "        print(f\"Instance data: {self.data}\")\n",
    "    "
   ]
  },
  {
   "cell_type": "code",
   "execution_count": null,
   "metadata": {},
   "outputs": [],
   "source": [
    "obj1 = Myclass2(\"Instance 1\")\n",
    "obj2 = Myclass2(\"Instance 2\")"
   ]
  },
  {
   "cell_type": "code",
   "execution_count": null,
   "metadata": {},
   "outputs": [],
   "source": [
    "obj1.show_instance_data()\n",
    "obj2.show_instance_data()"
   ]
  },
  {
   "cell_type": "code",
   "execution_count": null,
   "metadata": {},
   "outputs": [],
   "source": [
    "Myclass.show_total_instance2"
   ]
  },
  {
   "cell_type": "code",
   "execution_count": 8,
   "metadata": {},
   "outputs": [
    {
     "ename": "SyntaxError",
     "evalue": "invalid syntax (670731693.py, line 4)",
     "output_type": "error",
     "traceback": [
      "\u001b[1;36m  Cell \u001b[1;32mIn[8], line 4\u001b[1;36m\u001b[0m\n\u001b[1;33m    def__init__(self,value):\u001b[0m\n\u001b[1;37m                            ^\u001b[0m\n\u001b[1;31mSyntaxError\u001b[0m\u001b[1;31m:\u001b[0m invalid syntax\n"
     ]
    }
   ],
   "source": [
    "class Mathutils:\n",
    "    total_operation = 0\n",
    "\n",
    "    def__init__(self,value):\n",
    "       self.value = Value \n",
    "\n",
    "\n",
    "@staticsmathod\n",
    "  def add(x, y):\n",
    "    Mathutils.total_operation += 1\n",
    "    return x + y\n",
    "\n",
    "@classmethod\n",
    "def increment_total_operations(cls):\n",
    "   cls.total_operation += 1\n",
    "\n",
    "def square(self):\n",
    "   return self.value **2"
   ]
  },
  {
   "cell_type": "code",
   "execution_count": null,
   "metadata": {},
   "outputs": [],
   "source": [
    "util1 = Mathutils(5)\n",
    "util2 = Mathutils(10)"
   ]
  },
  {
   "cell_type": "code",
   "execution_count": null,
   "metadata": {},
   "outputs": [],
   "source": [
    "print(Mathutils.add(12,36))"
   ]
  },
  {
   "cell_type": "code",
   "execution_count": null,
   "metadata": {},
   "outputs": [],
   "source": [
    "Mathutils.increment_total_operations()\n",
    "print(\"Total operation count:, MathUtils.total_operations\")"
   ]
  },
  {
   "cell_type": "code",
   "execution_count": null,
   "metadata": {},
   "outputs": [],
   "source": [
    "print(util2.square())"
   ]
  },
  {
   "cell_type": "code",
   "execution_count": null,
   "metadata": {},
   "outputs": [],
   "source": []
  },
  {
   "cell_type": "code",
   "execution_count": null,
   "metadata": {},
   "outputs": [],
   "source": [
    "#static method is method that belong to a class rather than a instance of the class\n",
    "# It is defined using @staticmethod decorate\n",
    "# statics method do not have access to the or class itself\n",
    "# they are independent of the\n"
   ]
  }
 ],
 "metadata": {
  "kernelspec": {
   "display_name": "Python 3",
   "language": "python",
   "name": "python3"
  },
  "language_info": {
   "codemirror_mode": {
    "name": "ipython",
    "version": 3
   },
   "file_extension": ".py",
   "mimetype": "text/x-python",
   "name": "python",
   "nbconvert_exporter": "python",
   "pygments_lexer": "ipython3",
   "version": "3.8.18"
  }
 },
 "nbformat": 4,
 "nbformat_minor": 2
}
